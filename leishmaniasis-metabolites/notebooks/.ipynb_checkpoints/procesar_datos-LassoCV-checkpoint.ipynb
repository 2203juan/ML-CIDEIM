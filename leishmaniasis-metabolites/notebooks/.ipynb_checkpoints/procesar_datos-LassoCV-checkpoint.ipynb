{
 "cells": [
  {
   "cell_type": "markdown",
   "id": "de254002",
   "metadata": {},
   "source": [
    "# Optimal metabolite subset"
   ]
  },
  {
   "cell_type": "code",
   "execution_count": 1,
   "id": "2768574f",
   "metadata": {},
   "outputs": [],
   "source": [
    "# Import libraries\n",
    "import pandas as pd\n",
    "import numpy as np"
   ]
  },
  {
   "cell_type": "markdown",
   "id": "4c86c5fb",
   "metadata": {},
   "source": [
    "## Import datasets"
   ]
  },
  {
   "cell_type": "code",
   "execution_count": 2,
   "id": "10b219c3",
   "metadata": {},
   "outputs": [],
   "source": [
    "# Columns are metabolites pre and pos, 35 patients\n",
    "ds1 = pd.read_csv(\"../data_sets/ds1.csv\")\n",
    "# Columns are metabolites, 35 patients (pre)\n",
    "ds2 = pd.read_csv(\"../data_sets/ds2.csv\")\n",
    "# Columns are metabolites, 70 patients (post)\n",
    "ds3 = pd.read_csv(\"../data_sets/ds3.csv\")\n",
    "# List of metabolites names\n",
    "metabolites = pd.read_excel(\"../data_sets/Supplementary_Dataset_S1.xlsx\")['Metabolite']"
   ]
  },
  {
   "cell_type": "code",
   "execution_count": 3,
   "id": "b1c54e92",
   "metadata": {},
   "outputs": [],
   "source": [
    "df = ds3"
   ]
  },
  {
   "cell_type": "markdown",
   "id": "7fde9f09",
   "metadata": {},
   "source": [
    "## Define pareto scaler"
   ]
  },
  {
   "cell_type": "code",
   "execution_count": 4,
   "id": "df835590",
   "metadata": {},
   "outputs": [],
   "source": [
    "from sklearn.base import BaseEstimator, TransformerMixin"
   ]
  },
  {
   "cell_type": "code",
   "execution_count": 5,
   "id": "52f89b40",
   "metadata": {},
   "outputs": [],
   "source": [
    "class ParetoScaler(BaseEstimator, TransformerMixin):\n",
    "    def __init__(self):\n",
    "        self.factors = None\n",
    "        \n",
    "    def fit(self, X, y=None):\n",
    "        self.factors = {col:X[col].std()**(1/2) for col in X}\n",
    "        return self\n",
    "    \n",
    "    def transform(self, X, y=None):\n",
    "        X_ = X.copy()\n",
    "        for col in X_:\n",
    "            X_[col] /= self.factors[col]\n",
    "        return X_"
   ]
  },
  {
   "cell_type": "markdown",
   "id": "c55ea72a",
   "metadata": {},
   "source": [
    "## Encode target values"
   ]
  },
  {
   "cell_type": "code",
   "execution_count": 6,
   "id": "3f391668",
   "metadata": {},
   "outputs": [
    {
     "data": {
      "text/html": [
       "<div>\n",
       "<style scoped>\n",
       "    .dataframe tbody tr th:only-of-type {\n",
       "        vertical-align: middle;\n",
       "    }\n",
       "\n",
       "    .dataframe tbody tr th {\n",
       "        vertical-align: top;\n",
       "    }\n",
       "\n",
       "    .dataframe thead th {\n",
       "        text-align: right;\n",
       "    }\n",
       "</style>\n",
       "<table border=\"1\" class=\"dataframe\">\n",
       "  <thead>\n",
       "    <tr style=\"text-align: right;\">\n",
       "      <th></th>\n",
       "      <th>0</th>\n",
       "      <th>1</th>\n",
       "      <th>2</th>\n",
       "      <th>3</th>\n",
       "      <th>4</th>\n",
       "      <th>5</th>\n",
       "      <th>6</th>\n",
       "      <th>7</th>\n",
       "      <th>8</th>\n",
       "      <th>9</th>\n",
       "      <th>...</th>\n",
       "      <th>527</th>\n",
       "      <th>528</th>\n",
       "      <th>529</th>\n",
       "      <th>530</th>\n",
       "      <th>531</th>\n",
       "      <th>532</th>\n",
       "      <th>533</th>\n",
       "      <th>534</th>\n",
       "      <th>535</th>\n",
       "      <th>y</th>\n",
       "    </tr>\n",
       "  </thead>\n",
       "  <tbody>\n",
       "    <tr>\n",
       "      <th>0</th>\n",
       "      <td>12781.16016</td>\n",
       "      <td>13023.61719</td>\n",
       "      <td>7637.846191</td>\n",
       "      <td>4312.572266</td>\n",
       "      <td>36301.68359</td>\n",
       "      <td>6.867976e+05</td>\n",
       "      <td>85113.781250</td>\n",
       "      <td>4290.965332</td>\n",
       "      <td>2.709745e+05</td>\n",
       "      <td>41511.82422</td>\n",
       "      <td>...</td>\n",
       "      <td>624578.1875</td>\n",
       "      <td>79408.01563</td>\n",
       "      <td>26254.31250</td>\n",
       "      <td>7415.603027</td>\n",
       "      <td>1575.383423</td>\n",
       "      <td>3858.673096</td>\n",
       "      <td>12726.140630</td>\n",
       "      <td>2731.017578</td>\n",
       "      <td>2873.173340</td>\n",
       "      <td>0</td>\n",
       "    </tr>\n",
       "    <tr>\n",
       "      <th>1</th>\n",
       "      <td>13227.25391</td>\n",
       "      <td>23967.87695</td>\n",
       "      <td>15493.653320</td>\n",
       "      <td>2922.394531</td>\n",
       "      <td>80539.66406</td>\n",
       "      <td>4.620728e+05</td>\n",
       "      <td>84456.882810</td>\n",
       "      <td>5276.038574</td>\n",
       "      <td>8.744241e+04</td>\n",
       "      <td>39890.93359</td>\n",
       "      <td>...</td>\n",
       "      <td>796816.9375</td>\n",
       "      <td>99684.13281</td>\n",
       "      <td>33561.46094</td>\n",
       "      <td>4947.357422</td>\n",
       "      <td>4676.434570</td>\n",
       "      <td>4950.031250</td>\n",
       "      <td>12599.176760</td>\n",
       "      <td>5660.225586</td>\n",
       "      <td>2608.797119</td>\n",
       "      <td>0</td>\n",
       "    </tr>\n",
       "    <tr>\n",
       "      <th>2</th>\n",
       "      <td>10122.60547</td>\n",
       "      <td>12945.88867</td>\n",
       "      <td>10413.718750</td>\n",
       "      <td>7928.317871</td>\n",
       "      <td>42504.90625</td>\n",
       "      <td>6.120502e+05</td>\n",
       "      <td>43188.925780</td>\n",
       "      <td>4376.491211</td>\n",
       "      <td>4.880815e+05</td>\n",
       "      <td>38950.03516</td>\n",
       "      <td>...</td>\n",
       "      <td>714536.3125</td>\n",
       "      <td>102415.13280</td>\n",
       "      <td>28715.66602</td>\n",
       "      <td>5563.428223</td>\n",
       "      <td>3275.547607</td>\n",
       "      <td>8176.732910</td>\n",
       "      <td>16635.501950</td>\n",
       "      <td>3074.649170</td>\n",
       "      <td>1528.793335</td>\n",
       "      <td>0</td>\n",
       "    </tr>\n",
       "    <tr>\n",
       "      <th>3</th>\n",
       "      <td>13343.74707</td>\n",
       "      <td>13922.31250</td>\n",
       "      <td>12080.819340</td>\n",
       "      <td>7304.219727</td>\n",
       "      <td>48926.32422</td>\n",
       "      <td>5.544005e+05</td>\n",
       "      <td>93529.210940</td>\n",
       "      <td>5212.500488</td>\n",
       "      <td>1.081802e+06</td>\n",
       "      <td>38103.93750</td>\n",
       "      <td>...</td>\n",
       "      <td>652670.3125</td>\n",
       "      <td>109246.76560</td>\n",
       "      <td>25427.25000</td>\n",
       "      <td>3065.382813</td>\n",
       "      <td>2606.009521</td>\n",
       "      <td>4635.400391</td>\n",
       "      <td>8650.053711</td>\n",
       "      <td>4626.319824</td>\n",
       "      <td>2046.959595</td>\n",
       "      <td>0</td>\n",
       "    </tr>\n",
       "    <tr>\n",
       "      <th>4</th>\n",
       "      <td>11886.78418</td>\n",
       "      <td>27445.01172</td>\n",
       "      <td>9575.403320</td>\n",
       "      <td>3838.025879</td>\n",
       "      <td>7354.43457</td>\n",
       "      <td>3.840624e+04</td>\n",
       "      <td>4832.499023</td>\n",
       "      <td>5291.332031</td>\n",
       "      <td>2.550203e+05</td>\n",
       "      <td>44519.20313</td>\n",
       "      <td>...</td>\n",
       "      <td>761062.0625</td>\n",
       "      <td>133911.21880</td>\n",
       "      <td>27870.75391</td>\n",
       "      <td>3764.118164</td>\n",
       "      <td>3745.776855</td>\n",
       "      <td>7395.415039</td>\n",
       "      <td>5185.240723</td>\n",
       "      <td>1666.588257</td>\n",
       "      <td>1930.175171</td>\n",
       "      <td>0</td>\n",
       "    </tr>\n",
       "    <tr>\n",
       "      <th>...</th>\n",
       "      <td>...</td>\n",
       "      <td>...</td>\n",
       "      <td>...</td>\n",
       "      <td>...</td>\n",
       "      <td>...</td>\n",
       "      <td>...</td>\n",
       "      <td>...</td>\n",
       "      <td>...</td>\n",
       "      <td>...</td>\n",
       "      <td>...</td>\n",
       "      <td>...</td>\n",
       "      <td>...</td>\n",
       "      <td>...</td>\n",
       "      <td>...</td>\n",
       "      <td>...</td>\n",
       "      <td>...</td>\n",
       "      <td>...</td>\n",
       "      <td>...</td>\n",
       "      <td>...</td>\n",
       "      <td>...</td>\n",
       "      <td>...</td>\n",
       "    </tr>\n",
       "    <tr>\n",
       "      <th>65</th>\n",
       "      <td>11616.59961</td>\n",
       "      <td>13477.42285</td>\n",
       "      <td>28147.134770</td>\n",
       "      <td>4870.213867</td>\n",
       "      <td>69137.07813</td>\n",
       "      <td>1.372612e+05</td>\n",
       "      <td>8845.105469</td>\n",
       "      <td>3209.911133</td>\n",
       "      <td>2.121939e+05</td>\n",
       "      <td>48808.90234</td>\n",
       "      <td>...</td>\n",
       "      <td>609592.9375</td>\n",
       "      <td>75933.73438</td>\n",
       "      <td>30589.31836</td>\n",
       "      <td>2659.402832</td>\n",
       "      <td>4198.503418</td>\n",
       "      <td>8442.726563</td>\n",
       "      <td>12513.836910</td>\n",
       "      <td>6563.433594</td>\n",
       "      <td>1447.444580</td>\n",
       "      <td>1</td>\n",
       "    </tr>\n",
       "    <tr>\n",
       "      <th>66</th>\n",
       "      <td>18506.74609</td>\n",
       "      <td>14005.15137</td>\n",
       "      <td>10854.259770</td>\n",
       "      <td>3625.831543</td>\n",
       "      <td>29586.16016</td>\n",
       "      <td>1.905000e+05</td>\n",
       "      <td>22534.166020</td>\n",
       "      <td>5194.289551</td>\n",
       "      <td>5.381889e+05</td>\n",
       "      <td>49784.36328</td>\n",
       "      <td>...</td>\n",
       "      <td>732354.8125</td>\n",
       "      <td>62860.12109</td>\n",
       "      <td>34528.49609</td>\n",
       "      <td>7579.631836</td>\n",
       "      <td>3083.323730</td>\n",
       "      <td>2305.873047</td>\n",
       "      <td>16258.588870</td>\n",
       "      <td>9714.000000</td>\n",
       "      <td>1560.546631</td>\n",
       "      <td>1</td>\n",
       "    </tr>\n",
       "    <tr>\n",
       "      <th>67</th>\n",
       "      <td>14581.37012</td>\n",
       "      <td>11003.54102</td>\n",
       "      <td>17422.916020</td>\n",
       "      <td>4132.967285</td>\n",
       "      <td>84643.10156</td>\n",
       "      <td>1.276168e+06</td>\n",
       "      <td>116420.703100</td>\n",
       "      <td>4267.375977</td>\n",
       "      <td>1.079372e+05</td>\n",
       "      <td>24779.61914</td>\n",
       "      <td>...</td>\n",
       "      <td>455068.5000</td>\n",
       "      <td>66967.70313</td>\n",
       "      <td>31927.18750</td>\n",
       "      <td>8054.373047</td>\n",
       "      <td>3687.551758</td>\n",
       "      <td>7440.108398</td>\n",
       "      <td>12482.334960</td>\n",
       "      <td>2542.672119</td>\n",
       "      <td>501.314331</td>\n",
       "      <td>1</td>\n",
       "    </tr>\n",
       "    <tr>\n",
       "      <th>68</th>\n",
       "      <td>11871.04297</td>\n",
       "      <td>38053.35156</td>\n",
       "      <td>12079.410160</td>\n",
       "      <td>871.309875</td>\n",
       "      <td>27565.69336</td>\n",
       "      <td>2.726918e+05</td>\n",
       "      <td>21009.755860</td>\n",
       "      <td>3048.367676</td>\n",
       "      <td>3.279277e+05</td>\n",
       "      <td>13730.99512</td>\n",
       "      <td>...</td>\n",
       "      <td>607863.0000</td>\n",
       "      <td>92825.35938</td>\n",
       "      <td>22965.94336</td>\n",
       "      <td>8883.898438</td>\n",
       "      <td>1661.758789</td>\n",
       "      <td>8712.309570</td>\n",
       "      <td>10968.892580</td>\n",
       "      <td>2186.223389</td>\n",
       "      <td>1426.884644</td>\n",
       "      <td>1</td>\n",
       "    </tr>\n",
       "    <tr>\n",
       "      <th>69</th>\n",
       "      <td>11414.01367</td>\n",
       "      <td>19009.86523</td>\n",
       "      <td>15555.877930</td>\n",
       "      <td>2981.673096</td>\n",
       "      <td>49411.80078</td>\n",
       "      <td>9.138732e+05</td>\n",
       "      <td>63409.597660</td>\n",
       "      <td>2730.227539</td>\n",
       "      <td>1.722961e+05</td>\n",
       "      <td>34019.10547</td>\n",
       "      <td>...</td>\n",
       "      <td>740236.9375</td>\n",
       "      <td>81190.25000</td>\n",
       "      <td>25443.81055</td>\n",
       "      <td>6882.459473</td>\n",
       "      <td>1652.537598</td>\n",
       "      <td>4508.281250</td>\n",
       "      <td>45314.980470</td>\n",
       "      <td>1346.009521</td>\n",
       "      <td>1934.003052</td>\n",
       "      <td>1</td>\n",
       "    </tr>\n",
       "  </tbody>\n",
       "</table>\n",
       "<p>70 rows × 537 columns</p>\n",
       "</div>"
      ],
      "text/plain": [
       "              0            1             2            3            4  \\\n",
       "0   12781.16016  13023.61719   7637.846191  4312.572266  36301.68359   \n",
       "1   13227.25391  23967.87695  15493.653320  2922.394531  80539.66406   \n",
       "2   10122.60547  12945.88867  10413.718750  7928.317871  42504.90625   \n",
       "3   13343.74707  13922.31250  12080.819340  7304.219727  48926.32422   \n",
       "4   11886.78418  27445.01172   9575.403320  3838.025879   7354.43457   \n",
       "..          ...          ...           ...          ...          ...   \n",
       "65  11616.59961  13477.42285  28147.134770  4870.213867  69137.07813   \n",
       "66  18506.74609  14005.15137  10854.259770  3625.831543  29586.16016   \n",
       "67  14581.37012  11003.54102  17422.916020  4132.967285  84643.10156   \n",
       "68  11871.04297  38053.35156  12079.410160   871.309875  27565.69336   \n",
       "69  11414.01367  19009.86523  15555.877930  2981.673096  49411.80078   \n",
       "\n",
       "               5              6            7             8            9  ...  \\\n",
       "0   6.867976e+05   85113.781250  4290.965332  2.709745e+05  41511.82422  ...   \n",
       "1   4.620728e+05   84456.882810  5276.038574  8.744241e+04  39890.93359  ...   \n",
       "2   6.120502e+05   43188.925780  4376.491211  4.880815e+05  38950.03516  ...   \n",
       "3   5.544005e+05   93529.210940  5212.500488  1.081802e+06  38103.93750  ...   \n",
       "4   3.840624e+04    4832.499023  5291.332031  2.550203e+05  44519.20313  ...   \n",
       "..           ...            ...          ...           ...          ...  ...   \n",
       "65  1.372612e+05    8845.105469  3209.911133  2.121939e+05  48808.90234  ...   \n",
       "66  1.905000e+05   22534.166020  5194.289551  5.381889e+05  49784.36328  ...   \n",
       "67  1.276168e+06  116420.703100  4267.375977  1.079372e+05  24779.61914  ...   \n",
       "68  2.726918e+05   21009.755860  3048.367676  3.279277e+05  13730.99512  ...   \n",
       "69  9.138732e+05   63409.597660  2730.227539  1.722961e+05  34019.10547  ...   \n",
       "\n",
       "            527           528          529          530          531  \\\n",
       "0   624578.1875   79408.01563  26254.31250  7415.603027  1575.383423   \n",
       "1   796816.9375   99684.13281  33561.46094  4947.357422  4676.434570   \n",
       "2   714536.3125  102415.13280  28715.66602  5563.428223  3275.547607   \n",
       "3   652670.3125  109246.76560  25427.25000  3065.382813  2606.009521   \n",
       "4   761062.0625  133911.21880  27870.75391  3764.118164  3745.776855   \n",
       "..          ...           ...          ...          ...          ...   \n",
       "65  609592.9375   75933.73438  30589.31836  2659.402832  4198.503418   \n",
       "66  732354.8125   62860.12109  34528.49609  7579.631836  3083.323730   \n",
       "67  455068.5000   66967.70313  31927.18750  8054.373047  3687.551758   \n",
       "68  607863.0000   92825.35938  22965.94336  8883.898438  1661.758789   \n",
       "69  740236.9375   81190.25000  25443.81055  6882.459473  1652.537598   \n",
       "\n",
       "            532           533          534          535  y  \n",
       "0   3858.673096  12726.140630  2731.017578  2873.173340  0  \n",
       "1   4950.031250  12599.176760  5660.225586  2608.797119  0  \n",
       "2   8176.732910  16635.501950  3074.649170  1528.793335  0  \n",
       "3   4635.400391   8650.053711  4626.319824  2046.959595  0  \n",
       "4   7395.415039   5185.240723  1666.588257  1930.175171  0  \n",
       "..          ...           ...          ...          ... ..  \n",
       "65  8442.726563  12513.836910  6563.433594  1447.444580  1  \n",
       "66  2305.873047  16258.588870  9714.000000  1560.546631  1  \n",
       "67  7440.108398  12482.334960  2542.672119   501.314331  1  \n",
       "68  8712.309570  10968.892580  2186.223389  1426.884644  1  \n",
       "69  4508.281250  45314.980470  1346.009521  1934.003052  1  \n",
       "\n",
       "[70 rows x 537 columns]"
      ]
     },
     "execution_count": 6,
     "metadata": {},
     "output_type": "execute_result"
    }
   ],
   "source": [
    "from sklearn.preprocessing import LabelEncoder\n",
    "le = LabelEncoder()\n",
    "df['y'] = le.fit_transform(df['y'])\n",
    "df"
   ]
  },
  {
   "cell_type": "markdown",
   "id": "0a3c9727",
   "metadata": {},
   "source": [
    "## Data set split"
   ]
  },
  {
   "cell_type": "code",
   "execution_count": 7,
   "id": "ea3190b1",
   "metadata": {},
   "outputs": [],
   "source": [
    "from sklearn.model_selection import train_test_split\n",
    "\n",
    "# Input data\n",
    "X = df.drop(columns=['y'])\n",
    "\n",
    "# Target variable\n",
    "y = df['y']\n",
    "\n",
    "# Split dataset in training and testing sets\n",
    "X_train, X_test, y_train, y_test = train_test_split(X, y, test_size=0.2, random_state=0)"
   ]
  },
  {
   "cell_type": "markdown",
   "id": "de0a7d32",
   "metadata": {},
   "source": [
    "## Lasso model"
   ]
  },
  {
   "cell_type": "code",
   "execution_count": 8,
   "id": "b87cf560",
   "metadata": {},
   "outputs": [],
   "source": [
    "# Import lasso regression from sklearn\n",
    "from sklearn.pipeline import Pipeline\n",
    "from sklearn.compose import ColumnTransformer\n",
    "from sklearn.linear_model import Lasso"
   ]
  },
  {
   "cell_type": "code",
   "execution_count": 9,
   "id": "e7b6f334",
   "metadata": {},
   "outputs": [],
   "source": [
    "num_vars = df.columns.tolist()[:-1]\n",
    "\n",
    "preprocessor = ColumnTransformer(\n",
    "    transformers=[\n",
    "        ('num', ParetoScaler(), num_vars)\n",
    "    ]\n",
    ")"
   ]
  },
  {
   "cell_type": "code",
   "execution_count": 10,
   "id": "40a8d680",
   "metadata": {},
   "outputs": [],
   "source": [
    "lasso_model = Pipeline(steps=[\n",
    "    ('preprocessor', preprocessor),\n",
    "    ('lasso', Lasso(alpha=0.0001))\n",
    "])"
   ]
  },
  {
   "cell_type": "code",
   "execution_count": 11,
   "id": "194ba9fa",
   "metadata": {
    "scrolled": false
   },
   "outputs": [
    {
     "data": {
      "text/plain": [
       "Pipeline(steps=[('preprocessor',\n",
       "                 ColumnTransformer(transformers=[('num', ParetoScaler(),\n",
       "                                                  ['0', '1', '2', '3', '4', '5',\n",
       "                                                   '6', '7', '8', '9', '10',\n",
       "                                                   '11', '12', '13', '14', '15',\n",
       "                                                   '16', '17', '18', '19', '20',\n",
       "                                                   '21', '22', '23', '24', '25',\n",
       "                                                   '26', '27', '28', '29', ...])])),\n",
       "                ('lasso', Lasso(alpha=0.0001))])"
      ]
     },
     "execution_count": 11,
     "metadata": {},
     "output_type": "execute_result"
    }
   ],
   "source": [
    "lasso_model.fit(X_train, y_train)"
   ]
  },
  {
   "cell_type": "markdown",
   "id": "371a325d",
   "metadata": {},
   "source": [
    "### Optimize $\\alpha$"
   ]
  },
  {
   "cell_type": "code",
   "execution_count": 12,
   "id": "df90413a",
   "metadata": {},
   "outputs": [],
   "source": [
    "#Import validation_curve from sklearn\n",
    "\n",
    "from sklearn.model_selection import validation_curve"
   ]
  },
  {
   "cell_type": "code",
   "execution_count": null,
   "id": "f35e2eff",
   "metadata": {},
   "outputs": [],
   "source": [
    "# Validation curve implementation\n",
    "\n",
    "alpha = np.array([10**(-i) for i in range(5)])\n",
    "score_train, score_test = validation_curve(\n",
    "    lasso_model, X, y,\n",
    "    param_name='lasso__alpha', param_range=alpha, cv=5, scoring='r2'\n",
    ")"
   ]
  },
  {
   "cell_type": "code",
   "execution_count": 43,
   "id": "c78ff45f",
   "metadata": {},
   "outputs": [
    {
     "data": {
      "text/plain": [
       "0.0001"
      ]
     },
     "execution_count": 43,
     "metadata": {},
     "output_type": "execute_result"
    }
   ],
   "source": [
    "# Select the best alpha value\n",
    "\n",
    "indx = score_test.mean(axis=1).argmax()\n",
    "best_alpha = alpha[indx]\n",
    "best_alpha"
   ]
  },
  {
   "cell_type": "markdown",
   "id": "d16eab19",
   "metadata": {},
   "source": [
    "### Extract heaviest features\n",
    "This is done by intersecting the heaviest coeficients of the model over multiple iterations"
   ]
  },
  {
   "cell_type": "code",
   "execution_count": 20,
   "id": "d18bbb5f",
   "metadata": {},
   "outputs": [],
   "source": [
    "subset = set(range(1072))\n",
    "iterations = 50\n",
    "\n",
    "for _ in range(iterations):\n",
    "    X_train, X_test, y_train, y_test = train_test_split(X, y, test_size=0.2)\n",
    "    lasso_model.fit(X_train, y_train)\n",
    "    coef = list(enumerate(lasso_model.named_steps['lasso'].coef_))\n",
    "    coef.sort(key=lambda x: x[1], reverse=True)\n",
    "    best_meta = {m for m,_ in coef[:200]}\n",
    "    subset = subset.intersection(best_meta)"
   ]
  },
  {
   "cell_type": "code",
   "execution_count": 21,
   "id": "813cd8a6",
   "metadata": {},
   "outputs": [
    {
     "data": {
      "text/plain": [
       "[0, 14, 21, 26, 36, 37, 40, 41, 42, 72, 80, 93, 401]"
      ]
     },
     "execution_count": 21,
     "metadata": {},
     "output_type": "execute_result"
    }
   ],
   "source": [
    "subset = list(subset)[:13]\n",
    "subset.sort()\n",
    "subset[:13]"
   ]
  },
  {
   "cell_type": "markdown",
   "id": "cac4cf1a",
   "metadata": {},
   "source": [
    "### Map features to metabolites"
   ]
  },
  {
   "cell_type": "code",
   "execution_count": 22,
   "id": "25543e63",
   "metadata": {},
   "outputs": [
    {
     "data": {
      "text/plain": [
       "['&gamma;-thiomethyl glutamate',\n",
       " '(S)-Dihydroorotate',\n",
       " '[FA (11:2)] 4_10-undecadiynal',\n",
       " '[FA (17:0)] heptadecanoic acid',\n",
       " '[FA (22:4)] 7Z_10Z_13Z_16Z-docosatetraenoic acid',\n",
       " '[FA (26:0/2:0)] Hexacosanedioic acid',\n",
       " '[FA (8:0)] octanoic acid',\n",
       " '[FA (8:1)] 2Z-octenoic acid',\n",
       " '[FA amino(8:0)] 3-amino-octanoic acid',\n",
       " '[GP (18:0)] 1-octadecanoyl-2-sn-glycero-3-phosphate',\n",
       " '[PC (16:0/18:2)] 1-hexadecanoyl-2-(9Z_12Z-octadecadienoyl)-sn-glycero-3-phosphocholine',\n",
       " '[PC (18:1/22:6)] 1-(1Z-octadecenyl)-2-(4Z_7Z_10Z_13Z_16Z_19Z-docosahexaenoyl)-sn-glycero-3-phosphocholine',\n",
       " 'Lys-Ser-Tyr']"
      ]
     },
     "execution_count": 22,
     "metadata": {},
     "output_type": "execute_result"
    }
   ],
   "source": [
    "opt_subset_lasso = [metabolites[i] for i in subset]\n",
    "opt_subset_lasso"
   ]
  },
  {
   "cell_type": "markdown",
   "id": "2998a8cd",
   "metadata": {},
   "source": [
    "## ANOVA correlation coefficient"
   ]
  },
  {
   "cell_type": "code",
   "execution_count": 23,
   "id": "5664b16d",
   "metadata": {},
   "outputs": [],
   "source": [
    "from sklearn.feature_selection import SelectKBest\n",
    "from sklearn.feature_selection import f_classif"
   ]
  },
  {
   "cell_type": "code",
   "execution_count": 24,
   "id": "d283e584",
   "metadata": {},
   "outputs": [],
   "source": [
    "fs = SelectKBest(score_func=f_classif, k=13)\n",
    "fs.fit(X, y)\n",
    "opt_subset_anova = [metabolites[int(i)] for i in fs.get_feature_names_out()]"
   ]
  },
  {
   "cell_type": "code",
   "execution_count": 25,
   "id": "e9c94b00",
   "metadata": {},
   "outputs": [
    {
     "data": {
      "text/plain": [
       "['[FA amino(8:0)] 3-amino-octanoic acid',\n",
       " '[FA methyl_hydroxy_oxo(5:2/4:0)] methyl 4-[2-(2-formyl-vinyl)-3-hydroxy-5-oxo-cyclopentyl]-butanoate',\n",
       " '[FA] Methyl jasmonate',\n",
       " '[PE (18:0/20:2)] 1-octadecanoyl-2-(11Z_14Z-eicosadienoyl)-sn-glycero-3-phosphoethanolamine',\n",
       " '2-Hydroxypyridine',\n",
       " '2-Oxoglutarate',\n",
       " 'Ala-Lys-Ser-Arg',\n",
       " 'D-Erythrose',\n",
       " 'L-Methionine S-oxide',\n",
       " 'N5-Ethyl-L-glutamine',\n",
       " 'N6-Methyl-L-lysine',\n",
       " 'N-Acetylglutamine',\n",
       " 'Taurine']"
      ]
     },
     "execution_count": 25,
     "metadata": {},
     "output_type": "execute_result"
    }
   ],
   "source": [
    "opt_subset_anova"
   ]
  },
  {
   "cell_type": "code",
   "execution_count": 27,
   "id": "37e8cb8d",
   "metadata": {},
   "outputs": [
    {
     "name": "stdout",
     "output_type": "stream",
     "text": [
      "[0, 14, 21, 26, 36, 37, 40, 41, 42, 72, 80, 93, 401]\n",
      "['42' '55' '67' '100' '152' '157' '212' '263' '380' '429' '431' '437'\n",
      " '508']\n"
     ]
    }
   ],
   "source": [
    "print(subset)\n",
    "print(fs.get_feature_names_out())"
   ]
  },
  {
   "cell_type": "code",
   "execution_count": 31,
   "id": "b774e3f3",
   "metadata": {},
   "outputs": [
    {
     "data": {
      "text/plain": [
       "{42}"
      ]
     },
     "execution_count": 31,
     "metadata": {},
     "output_type": "execute_result"
    }
   ],
   "source": [
    "lasso_set = set(subset)\n",
    "anova_set = set(map(int,fs.get_feature_names_out()))\n",
    "lasso_set.intersection(anova_set)"
   ]
  }
 ],
 "metadata": {
  "kernelspec": {
   "display_name": "Python 3 (ipykernel)",
   "language": "python",
   "name": "python3"
  },
  "language_info": {
   "codemirror_mode": {
    "name": "ipython",
    "version": 3
   },
   "file_extension": ".py",
   "mimetype": "text/x-python",
   "name": "python",
   "nbconvert_exporter": "python",
   "pygments_lexer": "ipython3",
   "version": "3.8.10"
  }
 },
 "nbformat": 4,
 "nbformat_minor": 5
}
