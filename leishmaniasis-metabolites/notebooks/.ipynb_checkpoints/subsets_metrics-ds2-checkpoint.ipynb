{
 "cells": [
  {
   "cell_type": "markdown",
   "id": "d0ae4e09",
   "metadata": {},
   "source": [
    "# Measuring subsets success"
   ]
  },
  {
   "cell_type": "code",
   "execution_count": 1,
   "id": "9509ff18",
   "metadata": {},
   "outputs": [],
   "source": [
    "import pandas as pd\n",
    "import numpy as np"
   ]
  },
  {
   "cell_type": "code",
   "execution_count": 2,
   "id": "ab3094bb",
   "metadata": {},
   "outputs": [],
   "source": [
    "from sklearn.svm import SVC\n",
    "from sklearn.model_selection import train_test_split\n",
    "from sklearn.metrics import accuracy_score\n",
    "from sklearn.pipeline import Pipeline\n",
    "from sklearn.compose import ColumnTransformer"
   ]
  },
  {
   "cell_type": "markdown",
   "id": "31ff0c47",
   "metadata": {},
   "source": [
    "## Metaboolites subsets"
   ]
  },
  {
   "cell_type": "code",
   "execution_count": 3,
   "id": "0eee3583",
   "metadata": {},
   "outputs": [],
   "source": [
    "# Fatty acyls y Sterol lipids ausentes, no se encontraron en 'Supplementary Dataset.xlsx'\n",
    "cideim = ['67', '152', '212', '218', '263', '296', '308', '312', '429', '431', '437', '486', '505', '508', '509']\n",
    "anova = ['21', '42', '72', '85', '221', '263', '375', '431', '482', '508']\n",
    "rfe = ['8', '80', '85', '154', '220', '227', '314', '384', '389', '421', '429', '508']\n",
    "rfecv = ['85', '227', '508']\n",
    "rfecv_complete = ['283', '314', '372', '468', '508']"
   ]
  },
  {
   "cell_type": "markdown",
   "id": "0dff485d",
   "metadata": {},
   "source": [
    "## Define pareto scaler"
   ]
  },
  {
   "cell_type": "code",
   "execution_count": 4,
   "id": "b641cf75",
   "metadata": {},
   "outputs": [],
   "source": [
    "from sklearn.base import BaseEstimator, TransformerMixin"
   ]
  },
  {
   "cell_type": "code",
   "execution_count": 5,
   "id": "aef05c72",
   "metadata": {},
   "outputs": [],
   "source": [
    "class ParetoScaler(BaseEstimator, TransformerMixin):\n",
    "    def __init__(self):\n",
    "        self.factors = None\n",
    "        \n",
    "    def fit(self, X, y=None):\n",
    "        self.factors = {col:X[col].std()**(1/2) for col in X}\n",
    "        return self\n",
    "    \n",
    "    def transform(self, X, y=None):\n",
    "        X_ = X.copy()\n",
    "        for col in X_:\n",
    "            X_[col] /= self.factors[col]\n",
    "        return X_"
   ]
  },
  {
   "cell_type": "markdown",
   "id": "5a2e985c",
   "metadata": {},
   "source": [
    "## Import dataset"
   ]
  },
  {
   "cell_type": "code",
   "execution_count": 17,
   "id": "11c11648",
   "metadata": {},
   "outputs": [],
   "source": [
    "df = pd.read_csv(\"../data_sets/ds2.csv\")"
   ]
  },
  {
   "cell_type": "markdown",
   "id": "391ed45b",
   "metadata": {},
   "source": [
    "## Encode target values"
   ]
  },
  {
   "cell_type": "code",
   "execution_count": 18,
   "id": "d1f8ba9e",
   "metadata": {},
   "outputs": [],
   "source": [
    "from sklearn.preprocessing import LabelEncoder\n",
    "le = LabelEncoder()\n",
    "df['y'] = le.fit_transform(df['y'])"
   ]
  },
  {
   "cell_type": "markdown",
   "id": "7d921c8d",
   "metadata": {},
   "source": [
    "## Test-Train split"
   ]
  },
  {
   "cell_type": "code",
   "execution_count": 40,
   "id": "dd0dfb17",
   "metadata": {},
   "outputs": [],
   "source": [
    "from sklearn.model_selection import train_test_split\n",
    "\n",
    "# Input data\n",
    "X = df.drop(columns=['y'])\n",
    "\n",
    "# Target variable\n",
    "y = df['y']\n",
    "\n",
    "# Split dataset in training and testing sets\n",
    "X_train, X_test, y_train, y_test = train_test_split(X, y, test_size=0.2, random_state=0)"
   ]
  },
  {
   "cell_type": "markdown",
   "id": "f26e79e5",
   "metadata": {},
   "source": [
    "## SVM models"
   ]
  },
  {
   "cell_type": "markdown",
   "id": "b4864b00",
   "metadata": {},
   "source": [
    "### cideim"
   ]
  },
  {
   "cell_type": "code",
   "execution_count": 10,
   "id": "2d219eaa",
   "metadata": {},
   "outputs": [],
   "source": [
    "X_train, X_test = X_train[cideim], X_test[cideim]"
   ]
  },
  {
   "cell_type": "code",
   "execution_count": 11,
   "id": "feac42c8",
   "metadata": {},
   "outputs": [],
   "source": [
    "num_vars = cideim\n",
    "\n",
    "preprocessor = ColumnTransformer(\n",
    "    transformers=[\n",
    "        ('num', ParetoScaler(), num_vars)\n",
    "    ]\n",
    ")"
   ]
  },
  {
   "cell_type": "code",
   "execution_count": 12,
   "id": "9820c70b",
   "metadata": {},
   "outputs": [],
   "source": [
    "cideim_model = Pipeline(steps=[\n",
    "    ('preprocessor', preprocessor),\n",
    "    ('svm', SVC())\n",
    "])"
   ]
  },
  {
   "cell_type": "code",
   "execution_count": 13,
   "id": "cfe82841",
   "metadata": {},
   "outputs": [
    {
     "data": {
      "text/plain": [
       "Pipeline(steps=[('preprocessor',\n",
       "                 ColumnTransformer(transformers=[('num', ParetoScaler(),\n",
       "                                                  ['67', '152', '212', '218',\n",
       "                                                   '263', '296', '308', '312',\n",
       "                                                   '429', '431', '437', '486',\n",
       "                                                   '505', '508', '509'])])),\n",
       "                ('svm', SVC())])"
      ]
     },
     "execution_count": 13,
     "metadata": {},
     "output_type": "execute_result"
    }
   ],
   "source": [
    "cideim_model.fit(X_train, y_train)"
   ]
  },
  {
   "cell_type": "code",
   "execution_count": 14,
   "id": "9de03fff",
   "metadata": {},
   "outputs": [],
   "source": [
    "cideim_predict = cideim_model.predict(X_test)"
   ]
  },
  {
   "cell_type": "code",
   "execution_count": 15,
   "id": "7c3f1d44",
   "metadata": {},
   "outputs": [
    {
     "data": {
      "text/plain": [
       "0.5714285714285714"
      ]
     },
     "execution_count": 15,
     "metadata": {},
     "output_type": "execute_result"
    }
   ],
   "source": [
    "accuracy_score(y_test, cideim_predict)"
   ]
  },
  {
   "cell_type": "markdown",
   "id": "3896041c",
   "metadata": {},
   "source": [
    "### anova"
   ]
  },
  {
   "cell_type": "code",
   "execution_count": 20,
   "id": "0d90cf29",
   "metadata": {},
   "outputs": [],
   "source": [
    "X_train, X_test = X_train[anova], X_test[anova]"
   ]
  },
  {
   "cell_type": "code",
   "execution_count": 21,
   "id": "06eb0227",
   "metadata": {},
   "outputs": [],
   "source": [
    "num_vars = anova\n",
    "\n",
    "preprocessor = ColumnTransformer(\n",
    "    transformers=[\n",
    "        ('num', ParetoScaler(), num_vars)\n",
    "    ]\n",
    ")"
   ]
  },
  {
   "cell_type": "code",
   "execution_count": 22,
   "id": "9d406edc",
   "metadata": {},
   "outputs": [],
   "source": [
    "anova_model = Pipeline(steps=[\n",
    "    ('preprocessor', preprocessor),\n",
    "    ('svm', SVC())\n",
    "])"
   ]
  },
  {
   "cell_type": "code",
   "execution_count": 23,
   "id": "c8a71fda",
   "metadata": {},
   "outputs": [
    {
     "data": {
      "text/plain": [
       "Pipeline(steps=[('preprocessor',\n",
       "                 ColumnTransformer(transformers=[('num', ParetoScaler(),\n",
       "                                                  ['21', '42', '72', '85',\n",
       "                                                   '221', '263', '375', '431',\n",
       "                                                   '482', '508'])])),\n",
       "                ('svm', SVC())])"
      ]
     },
     "execution_count": 23,
     "metadata": {},
     "output_type": "execute_result"
    }
   ],
   "source": [
    "anova_model.fit(X_train, y_train)"
   ]
  },
  {
   "cell_type": "code",
   "execution_count": 24,
   "id": "24955c4b",
   "metadata": {},
   "outputs": [],
   "source": [
    "anova_predict = anova_model.predict(X_test)"
   ]
  },
  {
   "cell_type": "code",
   "execution_count": 25,
   "id": "2f069f5c",
   "metadata": {},
   "outputs": [
    {
     "data": {
      "text/plain": [
       "0.5714285714285714"
      ]
     },
     "execution_count": 25,
     "metadata": {},
     "output_type": "execute_result"
    }
   ],
   "source": [
    "accuracy_score(y_test, anova_predict)"
   ]
  },
  {
   "cell_type": "markdown",
   "id": "e7b5f05d",
   "metadata": {},
   "source": [
    "### rfe"
   ]
  },
  {
   "cell_type": "code",
   "execution_count": 27,
   "id": "8e642ef2",
   "metadata": {},
   "outputs": [],
   "source": [
    "X_train, X_test = X_train[rfe], X_test[rfe]"
   ]
  },
  {
   "cell_type": "code",
   "execution_count": 28,
   "id": "a08bbe43",
   "metadata": {},
   "outputs": [],
   "source": [
    "num_vars = rfe\n",
    "\n",
    "preprocessor = ColumnTransformer(\n",
    "    transformers=[\n",
    "        ('num', ParetoScaler(), num_vars)\n",
    "    ]\n",
    ")"
   ]
  },
  {
   "cell_type": "code",
   "execution_count": 29,
   "id": "2bb2726b",
   "metadata": {},
   "outputs": [],
   "source": [
    "rfe_model = Pipeline(steps=[\n",
    "    ('preprocessor', preprocessor),\n",
    "    ('svm', SVC())\n",
    "])"
   ]
  },
  {
   "cell_type": "code",
   "execution_count": 30,
   "id": "739a1bc5",
   "metadata": {},
   "outputs": [
    {
     "data": {
      "text/plain": [
       "Pipeline(steps=[('preprocessor',\n",
       "                 ColumnTransformer(transformers=[('num', ParetoScaler(),\n",
       "                                                  ['8', '80', '85', '154',\n",
       "                                                   '220', '227', '314', '384',\n",
       "                                                   '389', '421', '429',\n",
       "                                                   '508'])])),\n",
       "                ('svm', SVC())])"
      ]
     },
     "execution_count": 30,
     "metadata": {},
     "output_type": "execute_result"
    }
   ],
   "source": [
    "rfe_model.fit(X_train, y_train)"
   ]
  },
  {
   "cell_type": "code",
   "execution_count": 31,
   "id": "94ac45dd",
   "metadata": {},
   "outputs": [],
   "source": [
    "rfe_predict = rfe_model.predict(X_test)"
   ]
  },
  {
   "cell_type": "code",
   "execution_count": 32,
   "id": "bcdfbd57",
   "metadata": {},
   "outputs": [
    {
     "data": {
      "text/plain": [
       "0.5714285714285714"
      ]
     },
     "execution_count": 32,
     "metadata": {},
     "output_type": "execute_result"
    }
   ],
   "source": [
    "accuracy_score(y_test, rfe_predict)"
   ]
  },
  {
   "cell_type": "markdown",
   "id": "8f5ad019",
   "metadata": {},
   "source": [
    "### rfecv"
   ]
  },
  {
   "cell_type": "code",
   "execution_count": 34,
   "id": "90606e01",
   "metadata": {},
   "outputs": [],
   "source": [
    "X_train, X_test = X_train[rfecv], X_test[rfecv]"
   ]
  },
  {
   "cell_type": "code",
   "execution_count": 35,
   "id": "eca34421",
   "metadata": {},
   "outputs": [],
   "source": [
    "num_vars = rfecv\n",
    "\n",
    "preprocessor = ColumnTransformer(\n",
    "    transformers=[\n",
    "        ('num', ParetoScaler(), num_vars)\n",
    "    ]\n",
    ")"
   ]
  },
  {
   "cell_type": "code",
   "execution_count": 36,
   "id": "7a785ec7",
   "metadata": {},
   "outputs": [],
   "source": [
    "rfecv_model = Pipeline(steps=[\n",
    "    ('preprocessor', preprocessor),\n",
    "    ('svm', SVC())\n",
    "])"
   ]
  },
  {
   "cell_type": "code",
   "execution_count": 37,
   "id": "d7de489f",
   "metadata": {},
   "outputs": [
    {
     "data": {
      "text/plain": [
       "Pipeline(steps=[('preprocessor',\n",
       "                 ColumnTransformer(transformers=[('num', ParetoScaler(),\n",
       "                                                  ['85', '227', '508'])])),\n",
       "                ('svm', SVC())])"
      ]
     },
     "execution_count": 37,
     "metadata": {},
     "output_type": "execute_result"
    }
   ],
   "source": [
    "rfecv_model.fit(X_train, y_train)"
   ]
  },
  {
   "cell_type": "code",
   "execution_count": 38,
   "id": "75e5d4ed",
   "metadata": {},
   "outputs": [],
   "source": [
    "rfecv_predict = rfecv_model.predict(X_test)"
   ]
  },
  {
   "cell_type": "code",
   "execution_count": 39,
   "id": "11b00b41",
   "metadata": {},
   "outputs": [
    {
     "data": {
      "text/plain": [
       "0.7142857142857143"
      ]
     },
     "execution_count": 39,
     "metadata": {},
     "output_type": "execute_result"
    }
   ],
   "source": [
    "accuracy_score(y_test, rfecv_predict)"
   ]
  },
  {
   "cell_type": "markdown",
   "id": "eb94d804",
   "metadata": {},
   "source": [
    "### rfecv_complete"
   ]
  },
  {
   "cell_type": "code",
   "execution_count": 41,
   "id": "bd8ddbf9",
   "metadata": {},
   "outputs": [],
   "source": [
    "X_train, X_test = X_train[rfecv_complete], X_test[rfecv_complete]"
   ]
  },
  {
   "cell_type": "code",
   "execution_count": 42,
   "id": "cd4b2fa1",
   "metadata": {},
   "outputs": [],
   "source": [
    "num_vars = rfecv_complete\n",
    "\n",
    "preprocessor = ColumnTransformer(\n",
    "    transformers=[\n",
    "        ('num', ParetoScaler(), num_vars)\n",
    "    ]\n",
    ")"
   ]
  },
  {
   "cell_type": "code",
   "execution_count": 43,
   "id": "c882fbe0",
   "metadata": {},
   "outputs": [],
   "source": [
    "rfecv_complete_model = Pipeline(steps=[\n",
    "    ('preprocessor', preprocessor),\n",
    "    ('svm', SVC())\n",
    "])"
   ]
  },
  {
   "cell_type": "code",
   "execution_count": 44,
   "id": "3d8cb5b3",
   "metadata": {},
   "outputs": [
    {
     "data": {
      "text/plain": [
       "Pipeline(steps=[('preprocessor',\n",
       "                 ColumnTransformer(transformers=[('num', ParetoScaler(),\n",
       "                                                  ['283', '314', '372', '468',\n",
       "                                                   '508'])])),\n",
       "                ('svm', SVC())])"
      ]
     },
     "execution_count": 44,
     "metadata": {},
     "output_type": "execute_result"
    }
   ],
   "source": [
    "rfecv_complete_model.fit(X_train, y_train)"
   ]
  },
  {
   "cell_type": "code",
   "execution_count": 45,
   "id": "874a36ac",
   "metadata": {},
   "outputs": [],
   "source": [
    "rfecv_complete_predict = rfecv_complete_model.predict(X_test)"
   ]
  },
  {
   "cell_type": "code",
   "execution_count": 46,
   "id": "981c79ce",
   "metadata": {},
   "outputs": [
    {
     "data": {
      "text/plain": [
       "0.5714285714285714"
      ]
     },
     "execution_count": 46,
     "metadata": {},
     "output_type": "execute_result"
    }
   ],
   "source": [
    "accuracy_score(y_test, rfecv_complete_predict)"
   ]
  }
 ],
 "metadata": {
  "kernelspec": {
   "display_name": "Python 3 (ipykernel)",
   "language": "python",
   "name": "python3"
  },
  "language_info": {
   "codemirror_mode": {
    "name": "ipython",
    "version": 3
   },
   "file_extension": ".py",
   "mimetype": "text/x-python",
   "name": "python",
   "nbconvert_exporter": "python",
   "pygments_lexer": "ipython3",
   "version": "3.10.4"
  }
 },
 "nbformat": 4,
 "nbformat_minor": 5
}
