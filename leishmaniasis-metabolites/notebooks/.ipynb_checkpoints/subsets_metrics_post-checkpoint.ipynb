{
 "cells": [
  {
   "cell_type": "markdown",
   "id": "d0ae4e09",
   "metadata": {},
   "source": [
    "# Measuring subsets success (post)"
   ]
  },
  {
   "cell_type": "code",
   "execution_count": 2,
   "id": "9509ff18",
   "metadata": {},
   "outputs": [],
   "source": [
    "import pandas as pd\n",
    "import numpy as np"
   ]
  },
  {
   "cell_type": "code",
   "execution_count": 3,
   "id": "ab3094bb",
   "metadata": {},
   "outputs": [],
   "source": [
    "from sklearn.svm import SVC\n",
    "from sklearn.model_selection import train_test_split\n",
    "from sklearn.metrics import accuracy_score"
   ]
  },
  {
   "cell_type": "markdown",
   "id": "31ff0c47",
   "metadata": {},
   "source": [
    "## Metaboolites subsets"
   ]
  },
  {
   "cell_type": "code",
   "execution_count": 43,
   "id": "0eee3583",
   "metadata": {},
   "outputs": [],
   "source": [
    "# Fatty acyls y Sterol lipids ausentes, no se encontraron en 'Supplementary Dataset.xlsx'\n",
    "cideim = ['67', '152', '212', '218', '263', '296', '308', '312', '429', '431', '437', '486', '505', '508', '509']\n",
    "f_classif = ['39', '40', '505']\n",
    "rfe = ['234', '363', '508']\n",
    "rfecv = ['112', '130', '140', '154', '185', '219', '234', '257', '308', '324', '363', '365', '386', '429', '450', '462', '474', '508']\n",
    "inter = ['308', '429', '508']"
   ]
  },
  {
   "cell_type": "markdown",
   "id": "0dff485d",
   "metadata": {},
   "source": [
    "## Define pareto scaler"
   ]
  },
  {
   "cell_type": "code",
   "execution_count": 5,
   "id": "b641cf75",
   "metadata": {},
   "outputs": [],
   "source": [
    "from sklearn.base import BaseEstimator, TransformerMixin"
   ]
  },
  {
   "cell_type": "code",
   "execution_count": 6,
   "id": "aef05c72",
   "metadata": {},
   "outputs": [],
   "source": [
    "class ParetoScaler(BaseEstimator, TransformerMixin):\n",
    "    def __init__(self):\n",
    "        self.factors = None\n",
    "        \n",
    "    def fit(self, X, y=None):\n",
    "        self.factors = {col:X[col].std()**(1/2) for col in X}\n",
    "        return self\n",
    "    \n",
    "    def transform(self, X, y=None):\n",
    "        X_ = X.copy()\n",
    "        for col in X_:\n",
    "            X_[col] /= self.factors[col]\n",
    "        return X_"
   ]
  },
  {
   "cell_type": "markdown",
   "id": "5a2e985c",
   "metadata": {},
   "source": [
    "## Import dataset"
   ]
  },
  {
   "cell_type": "code",
   "execution_count": 8,
   "id": "11c11648",
   "metadata": {},
   "outputs": [],
   "source": [
    "df = pd.read_csv(\"../data_sets/ds3.csv\")"
   ]
  },
  {
   "cell_type": "markdown",
   "id": "391ed45b",
   "metadata": {},
   "source": [
    "## Encode target values"
   ]
  },
  {
   "cell_type": "code",
   "execution_count": 9,
   "id": "d1f8ba9e",
   "metadata": {},
   "outputs": [],
   "source": [
    "from sklearn.preprocessing import LabelEncoder\n",
    "le = LabelEncoder()\n",
    "df['y'] = le.fit_transform(df['y'])"
   ]
  },
  {
   "cell_type": "markdown",
   "id": "7d921c8d",
   "metadata": {},
   "source": [
    "## Test-Train split"
   ]
  },
  {
   "cell_type": "code",
   "execution_count": 10,
   "id": "dd0dfb17",
   "metadata": {},
   "outputs": [],
   "source": [
    "from sklearn.model_selection import train_test_split\n",
    "\n",
    "# Input data\n",
    "X = df.drop(columns=['y'])\n",
    "\n",
    "# Target variable\n",
    "y = df['y']\n",
    "\n",
    "# Split dataset in training and testing sets\n",
    "X_train, X_test, y_train, y_test = train_test_split(X, y, test_size=0.2, random_state=0)"
   ]
  },
  {
   "cell_type": "markdown",
   "id": "8dc9a58d",
   "metadata": {},
   "source": [
    "## Scale"
   ]
  },
  {
   "cell_type": "code",
   "execution_count": 11,
   "id": "f35cc59e",
   "metadata": {},
   "outputs": [],
   "source": [
    "pareto = ParetoScaler()\n",
    "X_train = pareto.fit_transform(X_train)\n",
    "X_test = pareto.transform(X_test)"
   ]
  },
  {
   "cell_type": "markdown",
   "id": "f26e79e5",
   "metadata": {},
   "source": [
    "## SVM models"
   ]
  },
  {
   "cell_type": "markdown",
   "id": "b4864b00",
   "metadata": {},
   "source": [
    "### cideim"
   ]
  },
  {
   "cell_type": "code",
   "execution_count": 12,
   "id": "cfe82841",
   "metadata": {},
   "outputs": [
    {
     "data": {
      "text/plain": [
       "SVC()"
      ]
     },
     "execution_count": 12,
     "metadata": {},
     "output_type": "execute_result"
    }
   ],
   "source": [
    "cideim_model = SVC()\n",
    "cideim_model.fit(X_train[cideim], y_train)"
   ]
  },
  {
   "cell_type": "code",
   "execution_count": 13,
   "id": "9de03fff",
   "metadata": {},
   "outputs": [],
   "source": [
    "cideim_predict = cideim_model.predict(X_test[cideim])"
   ]
  },
  {
   "cell_type": "code",
   "execution_count": 14,
   "id": "7c3f1d44",
   "metadata": {},
   "outputs": [
    {
     "data": {
      "text/plain": [
       "0.8571428571428571"
      ]
     },
     "execution_count": 14,
     "metadata": {},
     "output_type": "execute_result"
    }
   ],
   "source": [
    "accuracy_score(y_test, cideim_predict)"
   ]
  },
  {
   "cell_type": "markdown",
   "id": "3896041c",
   "metadata": {},
   "source": [
    "### f_classif"
   ]
  },
  {
   "cell_type": "code",
   "execution_count": 15,
   "id": "c8a71fda",
   "metadata": {},
   "outputs": [
    {
     "data": {
      "text/plain": [
       "SVC()"
      ]
     },
     "execution_count": 15,
     "metadata": {},
     "output_type": "execute_result"
    }
   ],
   "source": [
    "f_classif_model = SVC()\n",
    "f_classif_model.fit(X_train[f_classif], y_train)"
   ]
  },
  {
   "cell_type": "code",
   "execution_count": 16,
   "id": "24955c4b",
   "metadata": {},
   "outputs": [],
   "source": [
    "f_classif_predict = f_classif_model.predict(X_test[f_classif])"
   ]
  },
  {
   "cell_type": "code",
   "execution_count": 17,
   "id": "2f069f5c",
   "metadata": {},
   "outputs": [
    {
     "data": {
      "text/plain": [
       "0.7142857142857143"
      ]
     },
     "execution_count": 17,
     "metadata": {},
     "output_type": "execute_result"
    }
   ],
   "source": [
    "accuracy_score(y_test, f_classif_predict)"
   ]
  },
  {
   "cell_type": "markdown",
   "id": "e7b5f05d",
   "metadata": {},
   "source": [
    "### rfe"
   ]
  },
  {
   "cell_type": "code",
   "execution_count": 18,
   "id": "739a1bc5",
   "metadata": {},
   "outputs": [
    {
     "data": {
      "text/plain": [
       "SVC()"
      ]
     },
     "execution_count": 18,
     "metadata": {},
     "output_type": "execute_result"
    }
   ],
   "source": [
    "rfe_model = SVC()\n",
    "rfe_model.fit(X_train[rfe], y_train)"
   ]
  },
  {
   "cell_type": "code",
   "execution_count": 19,
   "id": "94ac45dd",
   "metadata": {},
   "outputs": [],
   "source": [
    "rfe_predict = rfe_model.predict(X_test[rfe])"
   ]
  },
  {
   "cell_type": "code",
   "execution_count": 20,
   "id": "bcdfbd57",
   "metadata": {},
   "outputs": [
    {
     "data": {
      "text/plain": [
       "0.7142857142857143"
      ]
     },
     "execution_count": 20,
     "metadata": {},
     "output_type": "execute_result"
    }
   ],
   "source": [
    "accuracy_score(y_test, rfe_predict)"
   ]
  },
  {
   "cell_type": "markdown",
   "id": "8f5ad019",
   "metadata": {},
   "source": [
    "### rfecv"
   ]
  },
  {
   "cell_type": "code",
   "execution_count": 21,
   "id": "d7de489f",
   "metadata": {},
   "outputs": [
    {
     "data": {
      "text/plain": [
       "SVC()"
      ]
     },
     "execution_count": 21,
     "metadata": {},
     "output_type": "execute_result"
    }
   ],
   "source": [
    "rfecv_model = SVC()\n",
    "rfecv_model.fit(X_train[rfecv], y_train)"
   ]
  },
  {
   "cell_type": "code",
   "execution_count": 22,
   "id": "75e5d4ed",
   "metadata": {},
   "outputs": [],
   "source": [
    "rfecv_predict = rfecv_model.predict(X_test[rfecv])"
   ]
  },
  {
   "cell_type": "code",
   "execution_count": 23,
   "id": "11b00b41",
   "metadata": {},
   "outputs": [
    {
     "data": {
      "text/plain": [
       "0.5714285714285714"
      ]
     },
     "execution_count": 23,
     "metadata": {},
     "output_type": "execute_result"
    }
   ],
   "source": [
    "accuracy_score(y_test, rfecv_predict)"
   ]
  },
  {
   "cell_type": "markdown",
   "id": "ea92097b",
   "metadata": {},
   "source": [
    "### intersections"
   ]
  },
  {
   "cell_type": "code",
   "execution_count": 44,
   "id": "0b2f39b1",
   "metadata": {},
   "outputs": [
    {
     "data": {
      "text/plain": [
       "SVC()"
      ]
     },
     "execution_count": 44,
     "metadata": {},
     "output_type": "execute_result"
    }
   ],
   "source": [
    "inter_model = SVC()\n",
    "inter_model.fit(X_train[inter], y_train)"
   ]
  },
  {
   "cell_type": "code",
   "execution_count": 45,
   "id": "06ab6dba",
   "metadata": {},
   "outputs": [],
   "source": [
    "inter_predict = inter_model.predict(X_test[inter])"
   ]
  },
  {
   "cell_type": "code",
   "execution_count": 46,
   "id": "b5df0301",
   "metadata": {},
   "outputs": [
    {
     "data": {
      "text/plain": [
       "0.8571428571428571"
      ]
     },
     "execution_count": 46,
     "metadata": {},
     "output_type": "execute_result"
    }
   ],
   "source": [
    "accuracy_score(y_test, inter_predict)"
   ]
  }
 ],
 "metadata": {
  "kernelspec": {
   "display_name": "Python 3 (ipykernel)",
   "language": "python",
   "name": "python3"
  },
  "language_info": {
   "codemirror_mode": {
    "name": "ipython",
    "version": 3
   },
   "file_extension": ".py",
   "mimetype": "text/x-python",
   "name": "python",
   "nbconvert_exporter": "python",
   "pygments_lexer": "ipython3",
   "version": "3.8.13"
  }
 },
 "nbformat": 4,
 "nbformat_minor": 5
}
